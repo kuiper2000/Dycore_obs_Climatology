{
 "cells": [
  {
   "cell_type": "code",
   "execution_count": 1,
   "id": "2ca6d97c-45ba-4c72-97f1-ba8beb566ae3",
   "metadata": {},
   "outputs": [],
   "source": [
    "import numpy as np\n",
    "import matplotlib.pyplot as plt\n",
    "import h5py\n",
    "import os\n",
    "import matplotlib.cm as cm\n",
    "import datetime \n",
    "import time\n",
    "from scipy.fft import fft, ifft, fftshift\n",
    "from scipy.fftpack import fftfreq\n",
    "from EOF import EOF\n",
    "import gc\n",
    "from multiprocessing import Pool\n",
    "from Load_File import Load_File"
   ]
  },
  {
   "cell_type": "code",
   "execution_count": 8,
   "id": "35b15bf4-af0d-426c-a077-626443a1e2c9",
   "metadata": {},
   "outputs": [
    {
     "name": "stdout",
     "output_type": "stream",
     "text": [
      "<KeysViewHDF5 ['_types', 'convection_xyzt', 'factor1_xyzt', 'factor2_xyzt', 'factor3_xyzt', 'factor4_xyzt', 'grid_div_xyzt', 'grid_geopots_xyzt', 'grid_p_full_xyzt', 'grid_p_half_xyzt', 'grid_ps_c_xyzt', 'grid_ps_p_xyzt', 'grid_t_c_xyzt', 'grid_t_n_xyzt', 'grid_t_p_xyzt', 'grid_tracers_c_max_Tiffany_xyzt', 'grid_tracers_c_max_xyzt', 'grid_tracers_c_xyzt', 'grid_tracers_diff_xyzt', 'grid_tracers_n_xyzt', 'grid_tracers_p_xyzt', 'grid_u_c_xyzt', 'grid_u_n_xyzt', 'grid_u_p_xyzt', 'grid_v_c_xyzt', 'grid_v_n_xyzt', 'grid_v_p_xyzt', 'grid_vor_xyzt', 'grid_w_full_xyzt', 'grid_z_full_xyzt', 'grid_δtracers_xyzt', 'grid_δu_xyzt', 'grid_δv_xyzt', 'spe_div_c_xyzt', 'spe_div_p_xyzt', 'spe_lnps_c_xyzt', 'spe_lnps_p_xyzt', 'spe_t_c_xyzt', 'spe_t_p_xyzt', 'spe_tracers_c_xyzt', 'spe_tracers_p_xyzt', 'spe_vor_c_xyzt', 'spe_vor_p_xyzt']>\n"
     ]
    }
   ],
   "source": [
    "def load_file(PR, start_day, end_day, path, load_variable='none'): \n",
    "    #count = 0\n",
    "    for i, day in enumerate(range(start_day, end_day, 25)):\n",
    "        file_path = path + 'RH80_PR'+str(PR)+'_'+str(end_day)+'day_startfrom_'+str(day)+'day_final.dat'\n",
    "        # show what variables are available \n",
    "        if day == start_day:\n",
    "            with h5py.File(file_path, \"r\") as file:\n",
    "                print(file.keys())\n",
    "    \n",
    "        if load_variable == 'none':\n",
    "            return\n",
    "        else:\n",
    "            f       = Load_File(load_variable)\n",
    "            var_tmp = np.array(f.load_data(file_path))\n",
    "            #print(var_tmp.shape)\n",
    "            if day == start_day:\n",
    "                var = var_tmp\n",
    "            else:\n",
    "                var = np.concatenate((var,var_tmp))\n",
    "                return var\n",
    "            \n",
    "    # Print variable names and values\n",
    "    for var_name, var_value in locals().items():\n",
    "        print(f\"{var_name} = {var_value}\")\n",
    "    \n",
    "# Example usage\n",
    "path          = '/home/kaichiht/Colab/2025_research/Dycore_obs_Climatology/Moist_Dycore_for_zenodo/IdealizeSpetral.jl/exp/HSt42/HSt42_0/'\n",
    "#function example: grid_t_p_xyzt = load_file(PR, start_day, end_day, path, variable='grid_t_p_xyzt')\n",
    "grid_t_p_xyzt = load_file(0, 0, 50, path, 'grid_t_p_xyzt')\n"
   ]
  }
 ],
 "metadata": {
  "kernelspec": {
   "display_name": "Python 3 (ipykernel)",
   "language": "python",
   "name": "python3"
  },
  "language_info": {
   "codemirror_mode": {
    "name": "ipython",
    "version": 3
   },
   "file_extension": ".py",
   "mimetype": "text/x-python",
   "name": "python",
   "nbconvert_exporter": "python",
   "pygments_lexer": "ipython3",
   "version": "3.9.18"
  }
 },
 "nbformat": 4,
 "nbformat_minor": 5
}
